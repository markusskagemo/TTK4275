{
 "cells": [
  {
   "cell_type": "code",
   "execution_count": 1,
   "metadata": {},
   "outputs": [],
   "source": [
    "%load_ext autoreload\n",
    "%autoreload 2"
   ]
  },
  {
   "cell_type": "code",
   "execution_count": 2,
   "metadata": {},
   "outputs": [],
   "source": [
    "import matplotlib.pyplot as plt\n",
    "import pandas as pd\n",
    "import numpy as np"
   ]
  },
  {
   "cell_type": "markdown",
   "metadata": {},
   "source": [
    "#### Import data and train model"
   ]
  },
  {
   "cell_type": "code",
   "execution_count": 3,
   "metadata": {},
   "outputs": [],
   "source": [
    "from mnist import MNIST\n",
    "\n",
    "mnist = MNIST('MNIST')\n",
    "\n",
    "x_train, y_train = mnist.load_training() # 60000 samples\n",
    "x_test, y_test = mnist.load_testing() # 10000 samples\n",
    "\n",
    "# Convert to ndarrays and enforce type\n",
    "x_train = np.asarray(x_train).astype(np.float32)\n",
    "y_train = np.asarray(y_train).astype(np.int32)\n",
    "x_test = np.asarray(x_test).astype(np.float32)\n",
    "y_test = np.asarray(y_test).astype(np.int32)"
   ]
  },
  {
   "cell_type": "code",
   "execution_count": 4,
   "metadata": {},
   "outputs": [
    {
     "data": {
      "image/png": "[encoded data removed]",
      "text/plain": [
       "<Figure size 432x288 with 1 Axes>"
      ]
     },
     "metadata": {
      "needs_background": "light"
     },
     "output_type": "display_data"
    }
   ],
   "source": [
    "plt.imshow(x_train[10].reshape(28, 28));"
   ]
  },
  {
   "cell_type": "code",
   "execution_count": 5,
   "metadata": {},
   "outputs": [],
   "source": [
    "# %timeit -r 10 knn.fit(x_train, y_train)\n",
    "from sklearn.neighbors import KNeighborsClassifier\n",
    "from tqdm import tqdm\n",
    "import time\n",
    "\n",
    "\n",
    "def knn_timed_fit(x_train, y_train, n_attempts=1, K=10):\n",
    "    knn = KNeighborsClassifier(n_neighbors=K, n_jobs=-1, metric='euclidean')\n",
    "    \n",
    "    times = []\n",
    "    for _ in tqdm(range(n_attempts)):\n",
    "        t0 = time.time()\n",
    "        knn.fit(x_train, y_train)\n",
    "        times.append(time.time() - t0)\n",
    "        \n",
    "    print('K-NN: n={} fits resulted in a mean fit time of {}s'.format(\n",
    "        n_attempts, np.mean(np.array(times))))\n",
    "    \n",
    "    return knn"
   ]
  },
  {
   "cell_type": "code",
   "execution_count": 6,
   "metadata": {},
   "outputs": [
    {
     "name": "stderr",
     "output_type": "stream",
     "text": [
      "100%|███████████████████████████████████████████████████████████████████████████████████| 3/3 [05:04<00:00, 101.59s/it]\n"
     ]
    },
    {
     "name": "stdout",
     "output_type": "stream",
     "text": [
      "K-NN: n=3 fits resulted in a mean fit time of 101.58497174580891s\n"
     ]
    }
   ],
   "source": [
    "knn = knn_timed_fit(x_train, y_train, n_attempts=3)"
   ]
  },
  {
   "cell_type": "markdown",
   "metadata": {},
   "source": [
    "### Evaluate model"
   ]
  },
  {
   "cell_type": "code",
   "execution_count": 7,
   "metadata": {},
   "outputs": [],
   "source": [
    "y_pred = knn.predict(x_test[:1000]) # > do in batches"
   ]
  },
  {
   "cell_type": "markdown",
   "metadata": {},
   "source": [
    "#### Show some misclassified numbers  \n",
    "Part of ex. 1a"
   ]
  },
  {
   "cell_type": "code",
   "execution_count": 8,
   "metadata": {},
   "outputs": [
    {
     "name": "stdout",
     "output_type": "stream",
     "text": [
      "Actual number: 4 \n",
      "Predicted number: 0\n"
     ]
    },
    {
     "data": {
      "image/png": "[encoded data removed]",
      "text/plain": [
       "<Figure size 432x288 with 1 Axes>"
      ]
     },
     "metadata": {
      "needs_background": "light"
     },
     "output_type": "display_data"
    },
    {
     "name": "stdout",
     "output_type": "stream",
     "text": [
      "Actual number: 2 \n",
      "Predicted number: 1\n"
     ]
    },
    {
     "data": {
      "image/png": "[encoded data removed]",
      "text/plain": [
       "<Figure size 432x288 with 1 Axes>"
      ]
     },
     "metadata": {
      "needs_background": "light"
     },
     "output_type": "display_data"
    },
    {
     "name": "stdout",
     "output_type": "stream",
     "text": [
      "Actual number: 8 \n",
      "Predicted number: 2\n"
     ]
    },
    {
     "data": {
      "image/png": "[encoded data removed]",
      "text/plain": [
       "<Figure size 432x288 with 1 Axes>"
      ]
     },
     "metadata": {
      "needs_background": "light"
     },
     "output_type": "display_data"
    },
    {
     "name": "stdout",
     "output_type": "stream",
     "text": [
      "Actual number: 2 \n",
      "Predicted number: 7\n"
     ]
    },
    {
     "data": {
      "image/png": "[encoded data removed]",
      "text/plain": [
       "<Figure size 432x288 with 1 Axes>"
      ]
     },
     "metadata": {
      "needs_background": "light"
     },
     "output_type": "display_data"
    },
    {
     "name": "stdout",
     "output_type": "stream",
     "text": [
      "Actual number: 4 \n",
      "Predicted number: 9\n"
     ]
    },
    {
     "data": {
      "image/png": "[encoded data removed]",
      "text/plain": [
       "<Figure size 432x288 with 1 Axes>"
      ]
     },
     "metadata": {
      "needs_background": "light"
     },
     "output_type": "display_data"
    }
   ],
   "source": [
    "bins = [1 if i == j else 0 for i, j in zip(y_pred, y_test[:1000])]\n",
    "fail_idxs = [i for i in range(len(bins)) if bins[i] == 0]\n",
    "max_n = 5\n",
    "\n",
    "# 1b\n",
    "for n, idx in enumerate(fail_idxs):\n",
    "    if n >= max_n:\n",
    "        break\n",
    "    print('Actual number:', y_test[idx], '\\nPredicted number:', y_pred[idx])\n",
    "    plt.imshow(x_test[idx].reshape(28, 28))\n",
    "    plt.show()"
   ]
  },
  {
   "cell_type": "markdown",
   "metadata": {},
   "source": [
    "#### Confusion matrix and error rates  \n",
    "Part of ex. 1a"
   ]
  },
  {
   "cell_type": "code",
   "execution_count": 9,
   "metadata": {},
   "outputs": [
    {
     "name": "stdout",
     "output_type": "stream",
     "text": [
      "              precision    recall  f1-score   support\n",
      "\n",
      "           0       0.93      1.00      0.97        85\n",
      "           1       0.94      1.00      0.97       126\n",
      "           2       0.99      0.90      0.94       116\n",
      "           3       0.96      0.94      0.95       107\n",
      "           4       0.96      0.92      0.94       110\n",
      "           5       0.98      0.98      0.98        87\n",
      "           6       0.98      0.97      0.97        87\n",
      "           7       0.92      0.97      0.95        99\n",
      "           8       0.98      0.91      0.94        89\n",
      "           9       0.91      0.97      0.94        94\n",
      "\n",
      "    accuracy                           0.95      1000\n",
      "   macro avg       0.96      0.95      0.95      1000\n",
      "weighted avg       0.96      0.95      0.95      1000\n",
      "\n"
     ]
    },
    {
     "data": {
      "image/png": "[encoded data removed]",
      "text/plain": [
       "<Figure size 432x288 with 2 Axes>"
      ]
     },
     "metadata": {
      "needs_background": "light"
     },
     "output_type": "display_data"
    }
   ],
   "source": [
    "from sklearn.metrics import plot_confusion_matrix\n",
    "from sklearn.metrics import classification_report\n",
    "\n",
    "\n",
    "def evaluation_report(knn, x, y_true, y_pred):\n",
    "    \"\"\"Find the confusion matrix and the error rate for the NN classifier.\n",
    "    \n",
    "    Params:\n",
    "        knn: sklearn.neighbors.KNeighborsClassifier instance\n",
    "        x: np.ndarray\n",
    "            feature vectors\n",
    "        y_true: np.ndarray\n",
    "            True target values\n",
    "        y_pred: np.ndarray\n",
    "            Predicted target values\n",
    "    \"\"\"\n",
    "    print(classification_report(y_true, y_pred))\n",
    "\n",
    "    plot_confusion_matrix(\n",
    "        knn, x, y_true, \n",
    "        display_labels=[i for i in range(10)],\n",
    "        normalize=None\n",
    "    );\n",
    "    \n",
    "    \n",
    "evaluation_report(knn, x_test[:1000], y_test[:1000], y_pred)"
   ]
  },
  {
   "cell_type": "markdown",
   "metadata": {},
   "source": [
    "### Exercise 2"
   ]
  },
  {
   "cell_type": "code",
   "execution_count": 19,
   "metadata": {},
   "outputs": [],
   "source": [
    "def get_class_members(y, x):\n",
    "    \"\"\"Place all x members of a y class into a dict\n",
    "    \n",
    "    Params:\n",
    "        x: np.ndarray\n",
    "            Feature vectors\n",
    "        y: np.ndarray\n",
    "            True target values\n",
    "    Returns:\n",
    "        class_members: dict\n",
    "            Format: {1: [np.ndarray, ...], 2:...}\n",
    "    \"\"\"\n",
    "    class_members = {}\n",
    "    # Initialize class member vector lists\n",
    "    for class_ in np.unique(np.array(y_test)): # aka set\n",
    "        class_members[class_] = []\n",
    "    # Put vectors in corresponding baskets\n",
    "    for class_, vector in zip(y, x):\n",
    "        class_members[class_].append(vector)\n",
    "    return class_members\n",
    "\n",
    "\n",
    "class_members = get_class_members(y_train, x_train)"
   ]
  },
  {
   "cell_type": "code",
   "execution_count": 20,
   "metadata": {},
   "outputs": [
    {
     "name": "stderr",
     "output_type": "stream",
     "text": [
      "100%|█████████████████████████████████████████████████████████████████████████████████| 10/10 [18:33<00:00, 111.30s/it]\n"
     ]
    }
   ],
   "source": [
    "from sklearn.cluster import KMeans\n",
    "\n",
    "\n",
    "def get_template_class_members(class_members, n_templates=64, show_progress=True):\n",
    "    \"\"\"Condense x, y set into n_templates classes using class-wise K-means clustering.\n",
    "    K-means cluster centroids act as template vectors.\n",
    "    \n",
    "    Params:\n",
    "        class_members: dict\n",
    "            Format: {1: [np.ndarray, ...], 2:...}\n",
    "        n_templates: int\n",
    "            Amount of template images per MNIST integer\n",
    "        show_progress: bool\n",
    "            Show progress bar toggle\n",
    "    Returns:\n",
    "        template_class_members: dict\n",
    "            Condensed version of class_members parameter.\n",
    "            Format: {1: [np.ndarray, ...], 2:...}\n",
    "    \"\"\"\n",
    "    kmeans = KMeans(n_clusters=n_templates, verbose=1, n_jobs=-1)\n",
    "    # Wrap iterator in tqdm progress indicator\n",
    "    if show_progress:\n",
    "        class_items = tqdm(class_members.items())\n",
    "    else:\n",
    "        class_items = class_members.items()\n",
    "    # Cluster classes into fewer template classes\n",
    "    template_class_members = {}\n",
    "    for class_, members in class_items:\n",
    "        class_kmeans = kmeans.fit(members)\n",
    "        template_vectors = class_kmeans.cluster_centers_\n",
    "        template_class_members[class_] = template_vectors\n",
    "    return template_class_members\n",
    "\n",
    "\n",
    "template_class_members = get_template_class_members(class_members)"
   ]
  },
  {
   "cell_type": "markdown",
   "metadata": {},
   "source": [
    "#### Train the KNN with the template classes  \n",
    "Notice greatly reduced training time."
   ]
  },
  {
   "cell_type": "code",
   "execution_count": 21,
   "metadata": {},
   "outputs": [
    {
     "name": "stderr",
     "output_type": "stream",
     "text": [
      "100%|██████████████████████████████████████████████████████████████████████████████████| 10/10 [00:01<00:00,  5.93it/s]\n"
     ]
    },
    {
     "name": "stdout",
     "output_type": "stream",
     "text": [
      "K-NN: n=10 fits resulted in a mean fit time of 0.1663965940475464s\n"
     ]
    }
   ],
   "source": [
    "# Flatten training data to fit x, y format\n",
    "template_x, template_y = [], []\n",
    "for class_, template_vectors in template_class_members.items():\n",
    "    template_y.extend([class_]*len(template_vectors))\n",
    "    template_x.extend(template_vectors)\n",
    "\n",
    "small_knn = knn_timed_fit(template_x, template_y, n_attempts=10)"
   ]
  },
  {
   "cell_type": "code",
   "execution_count": 22,
   "metadata": {},
   "outputs": [
    {
     "name": "stdout",
     "output_type": "stream",
     "text": [
      "              precision    recall  f1-score   support\n",
      "\n",
      "           0       0.93      0.94      0.94        85\n",
      "           1       0.93      1.00      0.96       126\n",
      "           2       0.95      0.85      0.90       116\n",
      "           3       0.90      0.93      0.91       107\n",
      "           4       0.92      0.88      0.90       110\n",
      "           5       0.89      0.95      0.92        87\n",
      "           6       0.94      0.94      0.94        87\n",
      "           7       0.90      0.90      0.90        99\n",
      "           8       0.89      0.83      0.86        89\n",
      "           9       0.88      0.89      0.88        94\n",
      "\n",
      "    accuracy                           0.91      1000\n",
      "   macro avg       0.91      0.91      0.91      1000\n",
      "weighted avg       0.91      0.91      0.91      1000\n",
      "\n"
     ]
    },
    {
     "data": {
      "image/png": "[encoded data removed]",
      "text/plain": [
       "<Figure size 432x288 with 2 Axes>"
      ]
     },
     "metadata": {
      "needs_background": "light"
     },
     "output_type": "display_data"
    }
   ],
   "source": [
    "y_pred = small_knn.predict(x_test[:1000])\n",
    "evaluation_report(small_knn, x_test[:1000], y_test[:1000], y_pred)"
   ]
  },
  {
   "cell_type": "markdown",
   "metadata": {},
   "source": [
    "#### Training the KNN again, this time with 7 clusters"
   ]
  },
  {
   "cell_type": "code",
   "execution_count": 25,
   "metadata": {},
   "outputs": [
    {
     "name": "stderr",
     "output_type": "stream",
     "text": [
      "100%|██████████████████████████████████████████████████████████████████████████████████| 10/10 [00:01<00:00,  7.77it/s]\n"
     ]
    },
    {
     "name": "stdout",
     "output_type": "stream",
     "text": [
      "K-NN: n=10 fits resulted in a mean fit time of 0.12682156562805175s\n",
      "              precision    recall  f1-score   support\n",
      "\n",
      "           0       0.93      0.95      0.94        85\n",
      "           1       0.93      1.00      0.97       126\n",
      "           2       0.96      0.84      0.90       116\n",
      "           3       0.93      0.93      0.93       107\n",
      "           4       0.94      0.88      0.91       110\n",
      "           5       0.88      0.97      0.92        87\n",
      "           6       0.93      0.94      0.94        87\n",
      "           7       0.90      0.91      0.90        99\n",
      "           8       0.89      0.84      0.87        89\n",
      "           9       0.87      0.90      0.89        94\n",
      "\n",
      "    accuracy                           0.92      1000\n",
      "   macro avg       0.92      0.92      0.92      1000\n",
      "weighted avg       0.92      0.92      0.92      1000\n",
      "\n"
     ]
    },
    {
     "data": {
      "image/png": "[encoded data removed]",
      "text/plain": [
       "<Figure size 432x288 with 2 Axes>"
      ]
     },
     "metadata": {
      "needs_background": "light"
     },
     "output_type": "display_data"
    }
   ],
   "source": [
    "K7_knn = knn_timed_fit(template_x, template_y, n_attempts=10, K=7)\n",
    "y_pred = K7_knn.predict(x_test[:1000])\n",
    "evaluation_report(K7_knn, x_test[:1000], y_test[:1000], y_pred)"
   ]
  },
  {
   "cell_type": "code",
   "execution_count": null,
   "metadata": {},
   "outputs": [],
   "source": []
  }
 ],
 "metadata": {
  "kernelspec": {
   "display_name": "Python 3",
   "language": "python",
   "name": "python3"
  },
  "language_info": {
   "codemirror_mode": {
    "name": "ipython",
    "version": 3
   },
   "file_extension": ".py",
   "mimetype": "text/x-python",
   "name": "python",
   "nbconvert_exporter": "python",
   "pygments_lexer": "ipython3",
   "version": "3.7.4"
  }
 },
 "nbformat": 4,
 "nbformat_minor": 4
}
