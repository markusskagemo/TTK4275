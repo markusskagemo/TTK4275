{
 "cells": [
  {
   "cell_type": "code",
   "execution_count": 1,
   "metadata": {},
   "outputs": [],
   "source": [
    "%load_ext autoreload\n",
    "%autoreload 2"
   ]
  },
  {
   "cell_type": "code",
   "execution_count": 2,
   "metadata": {},
   "outputs": [],
   "source": [
    "import matplotlib.pyplot as plt\n",
    "import pandas as pd\n",
    "import numpy as np"
   ]
  },
  {
   "cell_type": "markdown",
   "metadata": {},
   "source": [
    "#### Import data and train model"
   ]
  },
  {
   "cell_type": "code",
   "execution_count": 3,
   "metadata": {},
   "outputs": [],
   "source": [
    "from mnist import MNIST\n",
    "\n",
    "mnist = MNIST('data')\n",
    "\n",
    "x_train, y_train = mnist.load_training() # 60000 samples\n",
    "x_test, y_test = mnist.load_testing() # 10000 samples\n",
    "\n",
    "# Convert to ndarrays and enforce type\n",
    "x_train = np.asarray(x_train).astype(np.float32)\n",
    "y_train = np.asarray(y_train).astype(np.int32)\n",
    "x_test = np.asarray(x_test).astype(np.float32)\n",
    "y_test = np.asarray(y_test).astype(np.int32)"
   ]
  },
  {
   "cell_type": "code",
   "execution_count": 4,
   "metadata": {},
   "outputs": [
    {
     "data": {
      "image/png": "[encoded data removed]",
      "text/plain": [
       "<Figure size 432x288 with 1 Axes>"
      ]
     },
     "metadata": {
      "needs_background": "light"
     },
     "output_type": "display_data"
    }
   ],
   "source": [
    "plt.imshow(x_train[10].reshape(28, 28));"
   ]
  },
  {
   "cell_type": "code",
   "execution_count": 5,
   "metadata": {},
   "outputs": [],
   "source": [
    "# %timeit -r 10 knn.fit(x_train, y_train)\n",
    "from sklearn.neighbors import KNeighborsClassifier\n",
    "from tqdm import tqdm\n",
    "import time\n",
    "\n",
    "\n",
    "def knn_timed_fit(x_train, y_train, n_attempts=1, K=3):\n",
    "    knn = KNeighborsClassifier(n_neighbors=K, n_jobs=-1, metric='euclidean')\n",
    "    \n",
    "    times = []\n",
    "    for _ in tqdm(range(n_attempts)):\n",
    "        t0 = time.time()\n",
    "        knn.fit(x_train, y_train)\n",
    "        times.append(time.time() - t0)\n",
    "        \n",
    "    print('K-NN: n={} fits resulted in a mean fit time of {}s'.format(\n",
    "        n_attempts, np.mean(np.array(times))))\n",
    "    \n",
    "    return knn"
   ]
  },
  {
   "cell_type": "code",
   "execution_count": 6,
   "metadata": {},
   "outputs": [
    {
     "name": "stderr",
     "output_type": "stream",
     "text": [
      "100%|████████████████████████████████████████████████████████████████████████████████████| 3/3 [04:27<00:00, 89.24s/it]\n"
     ]
    },
    {
     "name": "stdout",
     "output_type": "stream",
     "text": [
      "K-NN: n=3 fits resulted in a mean fit time of 89.20355304082234s\n"
     ]
    }
   ],
   "source": [
    "knn = knn_timed_fit(x_train, y_train, n_attempts=3)"
   ]
  },
  {
   "cell_type": "code",
   "execution_count": 45,
   "metadata": {},
   "outputs": [],
   "source": [
    "y_pred = knn.predict(x_test)"
   ]
  },
  {
   "cell_type": "markdown",
   "metadata": {},
   "source": [
    "#### Evaluate model"
   ]
  },
  {
   "cell_type": "markdown",
   "metadata": {},
   "source": [
    "#### Show some misclassified numbers  \n",
    "Part of ex. 1a"
   ]
  },
  {
   "cell_type": "code",
   "execution_count": 8,
   "metadata": {},
   "outputs": [
    {
     "name": "stdout",
     "output_type": "stream",
     "text": [
      "Actual number: 4 \n",
      "Predicted number: 9\n"
     ]
    },
    {
     "data": {
      "image/png": "[encoded data removed]",
      "text/plain": [
       "<Figure size 432x288 with 1 Axes>"
      ]
     },
     "metadata": {
      "needs_background": "light"
     },
     "output_type": "display_data"
    },
    {
     "name": "stdout",
     "output_type": "stream",
     "text": [
      "Actual number: 4 \n",
      "Predicted number: 9\n"
     ]
    },
    {
     "data": {
      "image/png": "[encoded data removed]",
      "text/plain": [
       "<Figure size 432x288 with 1 Axes>"
      ]
     },
     "metadata": {
      "needs_background": "light"
     },
     "output_type": "display_data"
    },
    {
     "name": "stdout",
     "output_type": "stream",
     "text": [
      "Actual number: 3 \n",
      "Predicted number: 5\n"
     ]
    },
    {
     "data": {
      "image/png": "[encoded data removed]",
      "text/plain": [
       "<Figure size 432x288 with 1 Axes>"
      ]
     },
     "metadata": {
      "needs_background": "light"
     },
     "output_type": "display_data"
    },
    {
     "name": "stdout",
     "output_type": "stream",
     "text": [
      "Actual number: 9 \n",
      "Predicted number: 8\n"
     ]
    },
    {
     "data": {
      "image/png": "[encoded data removed]",
      "text/plain": [
       "<Figure size 432x288 with 1 Axes>"
      ]
     },
     "metadata": {
      "needs_background": "light"
     },
     "output_type": "display_data"
    },
    {
     "name": "stdout",
     "output_type": "stream",
     "text": [
      "Actual number: 4 \n",
      "Predicted number: 6\n"
     ]
    },
    {
     "data": {
      "image/png": "[encoded data removed]",
      "text/plain": [
       "<Figure size 432x288 with 1 Axes>"
      ]
     },
     "metadata": {
      "needs_background": "light"
     },
     "output_type": "display_data"
    }
   ],
   "source": [
    "bins = [1 if i == j else 0 for i, j in zip(y_pred, y_test)]\n",
    "fail_idxs = [i for i in range(len(bins)) if bins[i] == 0]\n",
    "max_n = 5\n",
    "\n",
    "# 1b\n",
    "for n, idx in enumerate(fail_idxs):\n",
    "    if n >= max_n:\n",
    "        break\n",
    "    print('Actual number:', y_test[idx], '\\nPredicted number:', y_pred[idx])\n",
    "    plt.imshow(x_test[idx].reshape(28, 28))\n",
    "    plt.show()"
   ]
  },
  {
   "cell_type": "markdown",
   "metadata": {},
   "source": [
    "#### Confusion matrix and error rates  \n",
    "Part of ex. 1a"
   ]
  },
  {
   "cell_type": "code",
   "execution_count": 46,
   "metadata": {},
   "outputs": [
    {
     "name": "stdout",
     "output_type": "stream",
     "text": [
      "              precision    recall  f1-score   support\n",
      "\n",
      "           0       0.97      0.99      0.98       980\n",
      "           1       0.96      1.00      0.98      1135\n",
      "           2       0.98      0.97      0.97      1032\n",
      "           3       0.96      0.97      0.96      1010\n",
      "           4       0.98      0.97      0.97       982\n",
      "           5       0.97      0.96      0.96       892\n",
      "           6       0.98      0.99      0.98       958\n",
      "           7       0.96      0.96      0.96      1028\n",
      "           8       0.99      0.94      0.96       974\n",
      "           9       0.96      0.96      0.96      1009\n",
      "\n",
      "    accuracy                           0.97     10000\n",
      "   macro avg       0.97      0.97      0.97     10000\n",
      "weighted avg       0.97      0.97      0.97     10000\n",
      "\n"
     ]
    },
    {
     "data": {
      "image/png": "[encoded data removed]",
      "text/plain": [
       "<Figure size 432x432 with 1 Axes>"
      ]
     },
     "metadata": {
      "needs_background": "light"
     },
     "output_type": "display_data"
    }
   ],
   "source": [
    "from sklearn.metrics import classification_report, confusion_matrix\n",
    "import seaborn as sb\n",
    "\n",
    "\n",
    "def evaluation_report(y_true, y_pred):\n",
    "    \"\"\"Find the confusion matrix and the error rate for the NN classifier.\n",
    "    \n",
    "    Params:\n",
    "        y_true: np.ndarray\n",
    "            True target values\n",
    "        y_pred: np.ndarray\n",
    "            Predicted target values\n",
    "    \"\"\"\n",
    "    print(classification_report(y_true, y_pred))\n",
    "\n",
    "    df_cm = pd.DataFrame(confusion_matrix(y_test, y_pred))\n",
    "    df_cm.index.name = 'Actual'\n",
    "    df_cm.columns.name = 'Predicted'\n",
    "\n",
    "    plt.figure(figsize=(6, 6))\n",
    "    sb.heatmap(df_cm, fmt='d', annot=True, cbar=False);\n",
    "\n",
    "\n",
    "evaluation_report(y_test, y_pred)"
   ]
  },
  {
   "cell_type": "markdown",
   "metadata": {},
   "source": [
    "### Exercise 2"
   ]
  },
  {
   "cell_type": "code",
   "execution_count": 16,
   "metadata": {},
   "outputs": [],
   "source": [
    "def get_class_members(y, x):\n",
    "    \"\"\"Place all x members of a y class into a dict.\n",
    "    \n",
    "    Params:\n",
    "        x: np.ndarray\n",
    "            Feature vectors\n",
    "        y: np.ndarray\n",
    "            True target values\n",
    "    Returns:\n",
    "        class_members: dict\n",
    "            Format: {1: [np.ndarray, ...], 2:...}\n",
    "    \"\"\"\n",
    "    class_members = {}\n",
    "    # Initialize class member vector lists\n",
    "    for class_ in np.unique(np.array(y_test)): # aka set\n",
    "        class_members[class_] = []\n",
    "    # Put vectors in corresponding baskets\n",
    "    for class_, vector in zip(y, x):\n",
    "        class_members[class_].append(vector)\n",
    "    return class_members\n",
    "\n",
    "\n",
    "class_members = get_class_members(y_train, x_train)"
   ]
  },
  {
   "cell_type": "code",
   "execution_count": 17,
   "metadata": {},
   "outputs": [
    {
     "name": "stderr",
     "output_type": "stream",
     "text": [
      "100%|█████████████████████████████████████████████████████████████████████████████████| 10/10 [22:10<00:00, 133.02s/it]\n"
     ]
    }
   ],
   "source": [
    "from sklearn.cluster import KMeans\n",
    "\n",
    "\n",
    "def get_template_class_members(class_members, n_templates=64, show_progress=True):\n",
    "    \"\"\"Condense x, y set into n_templates classes using class-wise K-means clustering.\n",
    "    K-means cluster centroids act as template vectors.\n",
    "    \n",
    "    Params:\n",
    "        class_members: dict\n",
    "            Format: {1: [np.ndarray, ...], 2:...}\n",
    "        n_templates: int\n",
    "            Amount of template images per MNIST integer\n",
    "        show_progress: bool\n",
    "            Show progress bar toggle\n",
    "    Returns:\n",
    "        template_class_members: dict\n",
    "            Condensed version of class_members parameter.\n",
    "            Format: {1: [np.ndarray, ...], 2:...}\n",
    "    \"\"\"\n",
    "    kmeans = KMeans(n_clusters=n_templates, verbose=1, n_jobs=-1)\n",
    "    # Wrap iterator in tqdm progress indicator\n",
    "    if show_progress:\n",
    "        class_items = tqdm(class_members.items())\n",
    "    else:\n",
    "        class_items = class_members.items()\n",
    "    # Cluster classes into fewer template classes\n",
    "    template_class_members = {}\n",
    "    for class_, members in class_items:\n",
    "        class_kmeans = kmeans.fit(members)\n",
    "        template_vectors = class_kmeans.cluster_centers_\n",
    "        template_class_members[class_] = template_vectors\n",
    "    return template_class_members\n",
    "\n",
    "\n",
    "template_class_members = get_template_class_members(class_members)"
   ]
  },
  {
   "cell_type": "markdown",
   "metadata": {},
   "source": [
    "#### Train the KNN with the template classes  \n",
    "Notice greatly reduced training time."
   ]
  },
  {
   "cell_type": "code",
   "execution_count": 47,
   "metadata": {},
   "outputs": [
    {
     "name": "stderr",
     "output_type": "stream",
     "text": [
      "100%|██████████████████████████████████████████████████████████████████████████████████| 10/10 [00:01<00:00,  5.52it/s]\n"
     ]
    },
    {
     "name": "stdout",
     "output_type": "stream",
     "text": [
      "K-NN: n=10 fits resulted in a mean fit time of 0.17876069545745848s\n"
     ]
    }
   ],
   "source": [
    "# Flatten training data to fit x, y format\n",
    "template_x, template_y = [], []\n",
    "for class_, template_vectors in template_class_members.items():\n",
    "    template_y.extend([class_]*len(template_vectors))\n",
    "    template_x.extend(template_vectors)\n",
    "\n",
    "small_knn = knn_timed_fit(template_x, template_y, n_attempts=10, K=3)"
   ]
  },
  {
   "cell_type": "code",
   "execution_count": 48,
   "metadata": {},
   "outputs": [
    {
     "name": "stdout",
     "output_type": "stream",
     "text": [
      "              precision    recall  f1-score   support\n",
      "\n",
      "           0       0.95      0.98      0.97       980\n",
      "           1       0.94      1.00      0.96      1135\n",
      "           2       0.95      0.94      0.94      1032\n",
      "           3       0.94      0.94      0.94      1010\n",
      "           4       0.94      0.93      0.93       982\n",
      "           5       0.93      0.95      0.94       892\n",
      "           6       0.97      0.97      0.97       958\n",
      "           7       0.96      0.92      0.94      1028\n",
      "           8       0.96      0.91      0.94       974\n",
      "           9       0.92      0.92      0.92      1009\n",
      "\n",
      "    accuracy                           0.95     10000\n",
      "   macro avg       0.95      0.95      0.95     10000\n",
      "weighted avg       0.95      0.95      0.95     10000\n",
      "\n"
     ]
    },
    {
     "data": {
      "image/png": "[encoded data removed]",
      "text/plain": [
       "<Figure size 432x432 with 1 Axes>"
      ]
     },
     "metadata": {
      "needs_background": "light"
     },
     "output_type": "display_data"
    }
   ],
   "source": [
    "y_pred = small_knn.predict(x_test)\n",
    "evaluation_report(y_test, y_pred)"
   ]
  },
  {
   "cell_type": "markdown",
   "metadata": {},
   "source": [
    "#### Training the KNN again, this time with 7 clusters"
   ]
  },
  {
   "cell_type": "code",
   "execution_count": 49,
   "metadata": {},
   "outputs": [
    {
     "name": "stderr",
     "output_type": "stream",
     "text": [
      "100%|██████████████████████████████████████████████████████████████████████████████████| 10/10 [00:01<00:00,  6.88it/s]\n"
     ]
    },
    {
     "name": "stdout",
     "output_type": "stream",
     "text": [
      "K-NN: n=10 fits resulted in a mean fit time of 0.14307770729064942s\n"
     ]
    }
   ],
   "source": [
    "K7_knn = knn_timed_fit(template_x, template_y, n_attempts=10, K=7)\n",
    "y_pred = K7_knn.predict(x_test)"
   ]
  },
  {
   "cell_type": "code",
   "execution_count": 50,
   "metadata": {},
   "outputs": [
    {
     "name": "stdout",
     "output_type": "stream",
     "text": [
      "              precision    recall  f1-score   support\n",
      "\n",
      "           0       0.96      0.98      0.97       980\n",
      "           1       0.93      0.99      0.96      1135\n",
      "           2       0.96      0.92      0.94      1032\n",
      "           3       0.92      0.94      0.93      1010\n",
      "           4       0.93      0.91      0.92       982\n",
      "           5       0.92      0.93      0.93       892\n",
      "           6       0.96      0.97      0.96       958\n",
      "           7       0.94      0.91      0.93      1028\n",
      "           8       0.95      0.90      0.92       974\n",
      "           9       0.90      0.90      0.90      1009\n",
      "\n",
      "    accuracy                           0.94     10000\n",
      "   macro avg       0.94      0.94      0.94     10000\n",
      "weighted avg       0.94      0.94      0.94     10000\n",
      "\n"
     ]
    },
    {
     "data": {
      "image/png": "[encoded data removed]",
      "text/plain": [
       "<Figure size 432x432 with 1 Axes>"
      ]
     },
     "metadata": {
      "needs_background": "light"
     },
     "output_type": "display_data"
    }
   ],
   "source": [
    "evaluation_report(y_test, y_pred)"
   ]
  },
  {
   "cell_type": "markdown",
   "metadata": {},
   "source": [
    "#### Measure model prediction speeds  \n",
    "The template models predict appx. 60 times faster. Note that train speeds also were appx. 500 times faster on template models. Further note that K-means clustering time in the 500x case was ignored, which took appx. 100s. This means that template models were 20% slower to train in total."
   ]
  },
  {
   "cell_type": "code",
   "execution_count": 20,
   "metadata": {},
   "outputs": [
    {
     "name": "stdout",
     "output_type": "stream",
     "text": [
      "K-NN: n=1 predicts resulted in a mean prediction time of 40.39792537689209s\n",
      "    given a sample of 1000 items. Pred time per sample: 0.04039792537689209s.\n",
      "        \n",
      "K-NN: n=10 predicts resulted in a mean prediction time of 0.640779685974121s\n",
      "    given a sample of 1000 items. Pred time per sample: 0.000640779685974121s.\n",
      "        \n",
      "K-NN: n=10 predicts resulted in a mean prediction time of 0.6275516033172608s\n",
      "    given a sample of 1000 items. Pred time per sample: 0.0006275516033172608s.\n",
      "        \n"
     ]
    }
   ],
   "source": [
    "def knn_timed_predict(knn, x, n_attempts=10):\n",
    "    pred_size = len(x)\n",
    "    times = []\n",
    "    for _ in range(n_attempts):\n",
    "        t0 = time.time()\n",
    "        y_pred = knn.predict(x)\n",
    "        times.append(time.time() - t0)\n",
    "    mean = np.mean(np.array(times))\n",
    "    print(\n",
    "        \"\"\"K-NN: n={} predicts resulted in a mean prediction time of {}s\n",
    "    given a sample of {} items. Pred time per sample: {}s.\n",
    "        \"\"\".format(n_attempts, mean, pred_size, mean/pred_size)\n",
    "    )\n",
    "    return y_pred\n",
    "    \n",
    "knn_timed_predict(knn, x_test[:1000], n_attempts=1)\n",
    "knn_timed_predict(small_knn, x_test[:1000])\n",
    "knn_timed_predict(K7_knn, x_test[:1000])"
   ]
  }
 ],
 "metadata": {
  "kernelspec": {
   "display_name": "Python 3",
   "language": "python",
   "name": "python3"
  },
  "language_info": {
   "codemirror_mode": {
    "name": "ipython",
    "version": 3
   },
   "file_extension": ".py",
   "mimetype": "text/x-python",
   "name": "python",
   "nbconvert_exporter": "python",
   "pygments_lexer": "ipython3",
   "version": "3.7.4"
  }
 },
 "nbformat": 4,
 "nbformat_minor": 4
}
