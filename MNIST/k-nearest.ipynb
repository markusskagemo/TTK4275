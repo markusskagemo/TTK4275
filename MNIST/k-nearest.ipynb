{
 "cells": [
  {
   "cell_type": "code",
   "execution_count": 1,
   "metadata": {},
   "outputs": [],
   "source": [
    "%load_ext autoreload\n",
    "%autoreload 2"
   ]
  },
  {
   "cell_type": "code",
   "execution_count": 2,
   "metadata": {},
   "outputs": [],
   "source": [
    "import matplotlib.pyplot as plt\n",
    "import pandas as pd\n",
    "import numpy as np"
   ]
  },
  {
   "cell_type": "markdown",
   "metadata": {},
   "source": [
    "#### Import data and train model"
   ]
  },
  {
   "cell_type": "code",
   "execution_count": 3,
   "metadata": {},
   "outputs": [],
   "source": [
    "from mnist import MNIST\n",
    "\n",
    "mnist = MNIST('MNIST')\n",
    "\n",
    "x_train, y_train = mnist.load_training() # 60000 samples\n",
    "x_test, y_test = mnist.load_testing() # 10000 samples\n",
    "\n",
    "# Convert to ndarrays and enforce type\n",
    "x_train = np.asarray(x_train).astype(np.float32)\n",
    "y_train = np.asarray(y_train).astype(np.int32)\n",
    "x_test = np.asarray(x_test).astype(np.float32)\n",
    "y_test = np.asarray(y_test).astype(np.int32)"
   ]
  },
  {
   "cell_type": "code",
   "execution_count": 4,
   "metadata": {},
   "outputs": [
    {
     "data": {
      "image/png": "[encoded data removed]",
      "text/plain": [
       "<Figure size 432x288 with 1 Axes>"
      ]
     },
     "metadata": {
      "needs_background": "light"
     },
     "output_type": "display_data"
    }
   ],
   "source": [
    "plt.imshow(x_train[10].reshape(28, 28));"
   ]
  },
  {
   "cell_type": "code",
   "execution_count": 5,
   "metadata": {},
   "outputs": [],
   "source": [
    "# %timeit -r 10 knn.fit(x_train, y_train)\n",
    "from sklearn.neighbors import KNeighborsClassifier\n",
    "from tqdm import tqdm\n",
    "import time\n",
    "\n",
    "\n",
    "def knn_timed_fit(x_train, y_train, n_attempts=1, K=10):\n",
    "    knn = KNeighborsClassifier(n_neighbors=K, n_jobs=-1, metric='euclidean')\n",
    "    \n",
    "    times = []\n",
    "    for _ in tqdm(range(n_attempts)):\n",
    "        t0 = time.time()\n",
    "        knn.fit(x_train, y_train)\n",
    "        times.append(time.time() - t0)\n",
    "        \n",
    "    print('K-NN: n={} fits resulted in a mean fit time of {}s'.format(\n",
    "        n_attempts, np.mean(np.array(times))))\n",
    "    \n",
    "    return knn"
   ]
  },
  {
   "cell_type": "code",
   "execution_count": 6,
   "metadata": {},
   "outputs": [
    {
     "name": "stderr",
     "output_type": "stream",
     "text": [
      "100%|████████████████████████████████████████████████████████████████████████████████████| 3/3 [04:02<00:00, 80.88s/it]\n"
     ]
    },
    {
     "name": "stdout",
     "output_type": "stream",
     "text": [
      "K-NN: n=3 fits resulted in a mean fit time of 80.87446864446004s\n"
     ]
    }
   ],
   "source": [
    "knn = knn_timed_fit(x_train, y_train, n_attempts=3)"
   ]
  },
  {
   "cell_type": "code",
   "execution_count": 7,
   "metadata": {},
   "outputs": [],
   "source": [
    "y_pred = knn.predict(x_test)"
   ]
  },
  {
   "cell_type": "markdown",
   "metadata": {},
   "source": [
    "#### Evaluate model"
   ]
  },
  {
   "cell_type": "markdown",
   "metadata": {},
   "source": [
    "#### Show some misclassified numbers  \n",
    "Part of ex. 1a"
   ]
  },
  {
   "cell_type": "code",
   "execution_count": 8,
   "metadata": {},
   "outputs": [
    {
     "name": "stdout",
     "output_type": "stream",
     "text": [
      "Actual number: 4 \n",
      "Predicted number: 0\n"
     ]
    },
    {
     "data": {
      "image/png": "[encoded data removed]",
      "text/plain": [
       "<Figure size 432x288 with 1 Axes>"
      ]
     },
     "metadata": {
      "needs_background": "light"
     },
     "output_type": "display_data"
    },
    {
     "name": "stdout",
     "output_type": "stream",
     "text": [
      "Actual number: 2 \n",
      "Predicted number: 1\n"
     ]
    },
    {
     "data": {
      "image/png": "[encoded data removed]",
      "text/plain": [
       "<Figure size 432x288 with 1 Axes>"
      ]
     },
     "metadata": {
      "needs_background": "light"
     },
     "output_type": "display_data"
    },
    {
     "name": "stdout",
     "output_type": "stream",
     "text": [
      "Actual number: 8 \n",
      "Predicted number: 2\n"
     ]
    },
    {
     "data": {
      "image/png": "[encoded data removed]",
      "text/plain": [
       "<Figure size 432x288 with 1 Axes>"
      ]
     },
     "metadata": {
      "needs_background": "light"
     },
     "output_type": "display_data"
    },
    {
     "name": "stdout",
     "output_type": "stream",
     "text": [
      "Actual number: 2 \n",
      "Predicted number: 7\n"
     ]
    },
    {
     "data": {
      "image/png": "[encoded data removed]",
      "text/plain": [
       "<Figure size 432x288 with 1 Axes>"
      ]
     },
     "metadata": {
      "needs_background": "light"
     },
     "output_type": "display_data"
    },
    {
     "name": "stdout",
     "output_type": "stream",
     "text": [
      "Actual number: 4 \n",
      "Predicted number: 9\n"
     ]
    },
    {
     "data": {
      "image/png": "[encoded data removed]",
      "text/plain": [
       "<Figure size 432x288 with 1 Axes>"
      ]
     },
     "metadata": {
      "needs_background": "light"
     },
     "output_type": "display_data"
    }
   ],
   "source": [
    "bins = [1 if i == j else 0 for i, j in zip(y_pred, y_test)]\n",
    "fail_idxs = [i for i in range(len(bins)) if bins[i] == 0]\n",
    "max_n = 5\n",
    "\n",
    "# 1b\n",
    "for n, idx in enumerate(fail_idxs):\n",
    "    if n >= max_n:\n",
    "        break\n",
    "    print('Actual number:', y_test[idx], '\\nPredicted number:', y_pred[idx])\n",
    "    plt.imshow(x_test[idx].reshape(28, 28))\n",
    "    plt.show()"
   ]
  },
  {
   "cell_type": "markdown",
   "metadata": {},
   "source": [
    "#### Confusion matrix and error rates  \n",
    "Part of ex. 1a"
   ]
  },
  {
   "cell_type": "code",
   "execution_count": 9,
   "metadata": {},
   "outputs": [
    {
     "name": "stdout",
     "output_type": "stream",
     "text": [
      "              precision    recall  f1-score   support\n",
      "\n",
      "           0       0.96      0.99      0.98       980\n",
      "           1       0.94      1.00      0.97      1135\n",
      "           2       0.98      0.95      0.97      1032\n",
      "           3       0.97      0.97      0.97      1010\n",
      "           4       0.97      0.96      0.97       982\n",
      "           5       0.97      0.97      0.97       892\n",
      "           6       0.98      0.98      0.98       958\n",
      "           7       0.96      0.96      0.96      1028\n",
      "           8       0.99      0.94      0.96       974\n",
      "           9       0.95      0.95      0.95      1009\n",
      "\n",
      "    accuracy                           0.97     10000\n",
      "   macro avg       0.97      0.97      0.97     10000\n",
      "weighted avg       0.97      0.97      0.97     10000\n",
      "\n"
     ]
    },
    {
     "data": {
      "image/png": "[encoded data removed]",
      "text/plain": [
       "<Figure size 432x288 with 2 Axes>"
      ]
     },
     "metadata": {
      "needs_background": "light"
     },
     "output_type": "display_data"
    }
   ],
   "source": [
    "from sklearn.metrics import plot_confusion_matrix, classification_report\n",
    "\n",
    "\n",
    "def evaluation_report(knn, x, y_true, y_pred):\n",
    "    \"\"\"Find the confusion matrix and the error rate for the NN classifier.\n",
    "    \n",
    "    Params:\n",
    "        knn: sklearn.neighbors.KNeighborsClassifier instance\n",
    "        x: np.ndarray\n",
    "            feature vectors\n",
    "        y_true: np.ndarray\n",
    "            True target values\n",
    "        y_pred: np.ndarray\n",
    "            Predicted target values\n",
    "    \"\"\"\n",
    "    print(classification_report(y_true, y_pred))\n",
    "\n",
    "    plot_confusion_matrix(\n",
    "        knn, x, y_true, \n",
    "        display_labels=knn.classes_,\n",
    "        normalize=None\n",
    "    );\n",
    "    \n",
    "    \n",
    "evaluation_report(knn, x_test, y_test, y_pred)"
   ]
  },
  {
   "cell_type": "markdown",
   "metadata": {},
   "source": [
    "### Exercise 2"
   ]
  },
  {
   "cell_type": "code",
   "execution_count": 10,
   "metadata": {},
   "outputs": [],
   "source": [
    "def get_class_members(y, x):\n",
    "    \"\"\"Place all x members of a y class into a dict\n",
    "    \n",
    "    Params:\n",
    "        x: np.ndarray\n",
    "            Feature vectors\n",
    "        y: np.ndarray\n",
    "            True target values\n",
    "    Returns:\n",
    "        class_members: dict\n",
    "            Format: {1: [np.ndarray, ...], 2:...}\n",
    "    \"\"\"\n",
    "    class_members = {}\n",
    "    # Initialize class member vector lists\n",
    "    for class_ in np.unique(np.array(y_test)): # aka set\n",
    "        class_members[class_] = []\n",
    "    # Put vectors in corresponding baskets\n",
    "    for class_, vector in zip(y, x):\n",
    "        class_members[class_].append(vector)\n",
    "    return class_members\n",
    "\n",
    "\n",
    "class_members = get_class_members(y_train, x_train)"
   ]
  },
  {
   "cell_type": "code",
   "execution_count": 11,
   "metadata": {},
   "outputs": [
    {
     "name": "stderr",
     "output_type": "stream",
     "text": [
      "100%|██████████████████████████████████████████████████████████████████████████████████| 10/10 [16:20<00:00, 98.08s/it]\n"
     ]
    }
   ],
   "source": [
    "from sklearn.cluster import KMeans\n",
    "\n",
    "\n",
    "def get_template_class_members(class_members, n_templates=64, show_progress=True):\n",
    "    \"\"\"Condense x, y set into n_templates classes using class-wise K-means clustering.\n",
    "    K-means cluster centroids act as template vectors.\n",
    "    \n",
    "    Params:\n",
    "        class_members: dict\n",
    "            Format: {1: [np.ndarray, ...], 2:...}\n",
    "        n_templates: int\n",
    "            Amount of template images per MNIST integer\n",
    "        show_progress: bool\n",
    "            Show progress bar toggle\n",
    "    Returns:\n",
    "        template_class_members: dict\n",
    "            Condensed version of class_members parameter.\n",
    "            Format: {1: [np.ndarray, ...], 2:...}\n",
    "    \"\"\"\n",
    "    kmeans = KMeans(n_clusters=n_templates, verbose=1, n_jobs=-1)\n",
    "    # Wrap iterator in tqdm progress indicator\n",
    "    if show_progress:\n",
    "        class_items = tqdm(class_members.items())\n",
    "    else:\n",
    "        class_items = class_members.items()\n",
    "    # Cluster classes into fewer template classes\n",
    "    template_class_members = {}\n",
    "    for class_, members in class_items:\n",
    "        class_kmeans = kmeans.fit(members)\n",
    "        template_vectors = class_kmeans.cluster_centers_\n",
    "        template_class_members[class_] = template_vectors\n",
    "    return template_class_members\n",
    "\n",
    "\n",
    "template_class_members = get_template_class_members(class_members)"
   ]
  },
  {
   "cell_type": "markdown",
   "metadata": {},
   "source": [
    "#### Train the KNN with the template classes  \n",
    "Notice greatly reduced training time."
   ]
  },
  {
   "cell_type": "code",
   "execution_count": 12,
   "metadata": {},
   "outputs": [
    {
     "name": "stderr",
     "output_type": "stream",
     "text": [
      "100%|██████████████████████████████████████████████████████████████████████████████████| 10/10 [00:01<00:00,  5.88it/s]\n"
     ]
    },
    {
     "name": "stdout",
     "output_type": "stream",
     "text": [
      "K-NN: n=10 fits resulted in a mean fit time of 0.16779570579528807s\n"
     ]
    }
   ],
   "source": [
    "# Flatten training data to fit x, y format\n",
    "template_x, template_y = [], []\n",
    "for class_, template_vectors in template_class_members.items():\n",
    "    template_y.extend([class_]*len(template_vectors))\n",
    "    template_x.extend(template_vectors)\n",
    "\n",
    "small_knn = knn_timed_fit(template_x, template_y, n_attempts=10)"
   ]
  },
  {
   "cell_type": "code",
   "execution_count": 13,
   "metadata": {},
   "outputs": [
    {
     "name": "stdout",
     "output_type": "stream",
     "text": [
      "              precision    recall  f1-score   support\n",
      "\n",
      "           0       0.95      0.97      0.96       980\n",
      "           1       0.91      0.99      0.95      1135\n",
      "           2       0.96      0.90      0.93      1032\n",
      "           3       0.92      0.94      0.93      1010\n",
      "           4       0.92      0.92      0.92       982\n",
      "           5       0.92      0.93      0.92       892\n",
      "           6       0.96      0.96      0.96       958\n",
      "           7       0.94      0.90      0.92      1028\n",
      "           8       0.93      0.91      0.92       974\n",
      "           9       0.90      0.89      0.90      1009\n",
      "\n",
      "    accuracy                           0.93     10000\n",
      "   macro avg       0.93      0.93      0.93     10000\n",
      "weighted avg       0.93      0.93      0.93     10000\n",
      "\n"
     ]
    },
    {
     "data": {
      "image/png": "[encoded data removed]",
      "text/plain": [
       "<Figure size 432x288 with 2 Axes>"
      ]
     },
     "metadata": {
      "needs_background": "light"
     },
     "output_type": "display_data"
    }
   ],
   "source": [
    "y_pred = small_knn.predict(x_test)\n",
    "evaluation_report(small_knn, x_test, y_test, y_pred)"
   ]
  },
  {
   "cell_type": "markdown",
   "metadata": {},
   "source": [
    "#### Training the KNN again, this time with 7 clusters"
   ]
  },
  {
   "cell_type": "code",
   "execution_count": 14,
   "metadata": {},
   "outputs": [
    {
     "name": "stderr",
     "output_type": "stream",
     "text": [
      "100%|██████████████████████████████████████████████████████████████████████████████████| 10/10 [00:01<00:00,  7.00it/s]\n"
     ]
    },
    {
     "name": "stdout",
     "output_type": "stream",
     "text": [
      "K-NN: n=10 fits resulted in a mean fit time of 0.1404123306274414s\n",
      "              precision    recall  f1-score   support\n",
      "\n",
      "           0       0.95      0.98      0.96       980\n",
      "           1       0.93      0.99      0.96      1135\n",
      "           2       0.96      0.92      0.94      1032\n",
      "           3       0.92      0.94      0.93      1010\n",
      "           4       0.94      0.91      0.93       982\n",
      "           5       0.91      0.92      0.92       892\n",
      "           6       0.96      0.96      0.96       958\n",
      "           7       0.93      0.90      0.92      1028\n",
      "           8       0.94      0.91      0.93       974\n",
      "           9       0.89      0.90      0.90      1009\n",
      "\n",
      "    accuracy                           0.93     10000\n",
      "   macro avg       0.93      0.93      0.93     10000\n",
      "weighted avg       0.93      0.93      0.93     10000\n",
      "\n"
     ]
    },
    {
     "data": {
      "image/png": "[encoded data removed]",
      "text/plain": [
       "<Figure size 432x288 with 2 Axes>"
      ]
     },
     "metadata": {
      "needs_background": "light"
     },
     "output_type": "display_data"
    }
   ],
   "source": [
    "K7_knn = knn_timed_fit(template_x, template_y, n_attempts=10, K=7)\n",
    "y_pred = K7_knn.predict(x_test)\n",
    "evaluation_report(K7_knn, x_test, y_test, y_pred)"
   ]
  },
  {
   "cell_type": "markdown",
   "metadata": {},
   "source": [
    "#### Measure model prediction speeds  \n",
    "The template models predict appx. 60 times faster. Note that train speeds also were appx. 500 times faster on template models. Further note that K-means clustering time in the 500x case was ignored, which took appx. 100s. This means that template models were 20% slower to train in total."
   ]
  },
  {
   "cell_type": "code",
   "execution_count": 20,
   "metadata": {},
   "outputs": [
    {
     "name": "stdout",
     "output_type": "stream",
     "text": [
      "K-NN: n=1 predicts resulted in a mean prediction time of 40.39792537689209s\n",
      "    given a sample of 1000 items. Pred time per sample: 0.04039792537689209s.\n",
      "        \n",
      "K-NN: n=10 predicts resulted in a mean prediction time of 0.640779685974121s\n",
      "    given a sample of 1000 items. Pred time per sample: 0.000640779685974121s.\n",
      "        \n",
      "K-NN: n=10 predicts resulted in a mean prediction time of 0.6275516033172608s\n",
      "    given a sample of 1000 items. Pred time per sample: 0.0006275516033172608s.\n",
      "        \n"
     ]
    }
   ],
   "source": [
    "def knn_timed_predict(knn, x, n_attempts=10):\n",
    "    pred_size = len(x)\n",
    "    times = []\n",
    "    for _ in range(n_attempts):\n",
    "        t0 = time.time()\n",
    "        y_pred = knn.predict(x)\n",
    "        times.append(time.time() - t0)\n",
    "    mean = np.mean(np.array(times))\n",
    "    print(\n",
    "        \"\"\"K-NN: n={} predicts resulted in a mean prediction time of {}s\n",
    "    given a sample of {} items. Pred time per sample: {}s.\n",
    "        \"\"\".format(n_attempts, mean, pred_size, mean/pred_size)\n",
    "    )\n",
    "    return y_pred\n",
    "    \n",
    "knn_timed_predict(knn, x_test[:1000], n_attempts=1)\n",
    "knn_timed_predict(small_knn, x_test[:1000])\n",
    "knn_timed_predict(K7_knn, x_test[:1000])"
   ]
  },
  {
   "cell_type": "code",
   "execution_count": 21,
   "metadata": {},
   "outputs": [],
   "source": [
    "import pickle\n",
    "\n",
    "\"\"\"\n",
    "# Its important to use binary mode \n",
    "knn_pickle = open('models/knn_model', 'wb') \n",
    "pickle.dump(knn, knn_pickle)                      \n",
    "\n",
    "knn_pickle = open('models/template_knn_model', 'wb') \n",
    "pickle.dump(small_knn, knn_pickle)                      \n",
    "\n",
    "knn_pickle = open('models/template_k7_knn_model', 'wb') \n",
    "pickle.dump(K7_knn, knn_pickle)\n",
    "\"\"\"                   \n",
    "\n",
    "load_models = False\n",
    "\n",
    "if load_models:\n",
    "    # load the model from disk\n",
    "    knn = pickle.load(open('models/knn_model', 'rb'))\n",
    "    small_knn = pickle.load(open('models/template_knn_model', 'rb'))\n",
    "    K7_knn = pickle.load(open('models/template_k7_knn_model', 'rb'))"
   ]
  }
 ],
 "metadata": {
  "kernelspec": {
   "display_name": "Python 3",
   "language": "python",
   "name": "python3"
  },
  "language_info": {
   "codemirror_mode": {
    "name": "ipython",
    "version": 3
   },
   "file_extension": ".py",
   "mimetype": "text/x-python",
   "name": "python",
   "nbconvert_exporter": "python",
   "pygments_lexer": "ipython3",
   "version": "3.7.4"
  }
 },
 "nbformat": 4,
 "nbformat_minor": 4
}
